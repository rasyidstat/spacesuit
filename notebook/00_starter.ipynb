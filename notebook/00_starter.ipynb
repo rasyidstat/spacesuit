{
 "metadata": {
  "language_info": {
   "codemirror_mode": {
    "name": "ipython",
    "version": 3
   },
   "file_extension": ".py",
   "mimetype": "text/x-python",
   "name": "python",
   "nbconvert_exporter": "python",
   "pygments_lexer": "ipython3",
   "version": "3.8.5-final"
  },
  "orig_nbformat": 2,
  "kernelspec": {
   "name": "python385jvsc74a57bd09f92744e12c76bcce0c7412a206e46c8bf1a54cc67d5f25e706318e33507cbb7",
   "display_name": "Python 3.8.5 64-bit ('base': conda)"
  },
  "metadata": {
   "interpreter": {
    "hash": "b785146620a81f682ebfee620caeee6595cb50d8d294bc295bd3048576636ef0"
   }
  }
 },
 "nbformat": 4,
 "nbformat_minor": 2,
 "cells": [
  {
   "source": [
    "On this starter notebook, we aim to:\n",
    "\n",
    "* Prepare the data for instance segmentation (convert to COCO format)\n",
    "* Visualize the data (image and processing)\n",
    "\n",
    "COCO format example:\n",
    "\n",
    "* https://www.kaggle.com/mlwhiz/simpsons-main-characters\n",
    "* https://www.immersivelimit.com/tutorials/create-coco-annotations-from-scratch\n",
    "* https://www.kaggle.com/fmscole/convert-dataset-to-coco-format-tools\n",
    "\n",
    "Augmentation:\n",
    "\n",
    "* https://towardsdatascience.com/self-supervised-keypoint-learning-aade18081fc3\n",
    "* https://github.com/qubvel/ttach\n",
    "\n",
    "Insights:\n",
    "\n",
    "* 6 images with multiple astronauts\n",
    "* 68 polygons are single (~73%)\n",
    "    "
   ],
   "cell_type": "markdown",
   "metadata": {}
  },
  {
   "cell_type": "code",
   "execution_count": 1,
   "metadata": {},
   "outputs": [],
   "source": [
    "import os\n",
    "os.chdir(\"../\")"
   ]
  },
  {
   "cell_type": "code",
   "execution_count": 2,
   "metadata": {},
   "outputs": [],
   "source": [
    "import pandas as pd \n",
    "import numpy as np \n",
    "import glob\n",
    "import json\n",
    "from PIL import Image"
   ]
  },
  {
   "cell_type": "code",
   "execution_count": 3,
   "metadata": {},
   "outputs": [],
   "source": [
    "IMAGE_TRAIN_PATH = \"data/raw/train/images/\""
   ]
  },
  {
   "cell_type": "code",
   "execution_count": 4,
   "metadata": {},
   "outputs": [],
   "source": [
    "def generate_image_metadata(dirname):\n",
    "    \"\"\"\n",
    "    Extract the width and height\n",
    "    \"\"\"\n",
    "    file_list = []\n",
    "    width_list = []\n",
    "    height_list = []\n",
    "    for filename in glob.glob(dirname + '*.*'):\n",
    "        img = Image.open(filename)\n",
    "        width, height = img.size\n",
    "        file_list.append(os.path.basename(filename))\n",
    "        width_list.append(width)\n",
    "        height_list.append(height)\n",
    "    \n",
    "    res = pd.DataFrame({\"filename\": file_list, \"width\": width_list, \"height\":height_list})\n",
    "    return res\n",
    "\n",
    "def get_pose(x, level=1):\n",
    "    x = x.split(\",\")\n",
    "    if level == 1:\n",
    "        x = x[0:45]\n",
    "    elif level == 2:\n",
    "        x = x[45:90]\n",
    "    x = ','.join(x)\n",
    "    return x"
   ]
  },
  {
   "source": [
    "## Data Preparation"
   ],
   "cell_type": "markdown",
   "metadata": {}
  },
  {
   "cell_type": "code",
   "execution_count": 5,
   "metadata": {},
   "outputs": [],
   "source": [
    "df_metadata = generate_image_metadata(IMAGE_TRAIN_PATH)\n",
    "df_metadata[\"id\"] = df_metadata[\"filename\"].str.replace(\".png|.jpg\", \"\").astype(int)"
   ]
  },
  {
   "cell_type": "code",
   "execution_count": 6,
   "metadata": {},
   "outputs": [],
   "source": [
    "with open(IMAGE_TRAIN_PATH + \"annotations/truth2d.txt\") as f:\n",
    "    labels = f.read().splitlines()"
   ]
  },
  {
   "cell_type": "code",
   "execution_count": 7,
   "metadata": {
    "tags": []
   },
   "outputs": [],
   "source": [
    "file_list = []\n",
    "pose_list = []\n",
    "polygon_list = []\n",
    "for label in labels:\n",
    "    # Split polygon\n",
    "    data = label.split(\"[\")\n",
    "    file_pose = data[0].split(\",\")\n",
    "\n",
    "    if len(data) > 1:\n",
    "        for polygon in data[1:]:\n",
    "            file_list.append(file_pose[0])\n",
    "            pose_list.append(\",\".join(file_pose[1:]))\n",
    "            polygon_list.append(polygon.replace(\"]\", \"\"))\n",
    "    else:\n",
    "        file_list.append(file_pose[0])\n",
    "        pose_list.append(np.NaN)\n",
    "        polygon_list.append(np.NaN)"
   ]
  },
  {
   "cell_type": "code",
   "execution_count": 8,
   "metadata": {},
   "outputs": [
    {
     "output_type": "execute_result",
     "data": {
      "text/plain": [
       "      filename                                               pose  \\\n",
       "0   952799.jpg                                                NaN   \n",
       "1   626913.jpg                                                NaN   \n",
       "2   204037.jpg                                                NaN   \n",
       "3   771734.jpg  238.0,191.0,2,428.0,207.0,2,334.0,291.0,2,237....   \n",
       "4   895632.jpg  819.0,362.0,2,795.0,456.0,2,744.0,412.0,2,732....   \n",
       "..         ...                                                ...   \n",
       "87  140435.png  515.0,199.0,2,604.0,185.0,2,556.0,263.0,2,0.0,...   \n",
       "88  140435.png  515.0,199.0,2,604.0,185.0,2,556.0,263.0,2,0.0,...   \n",
       "89  948061.png  492.0,316.0,2,674.0,315.0,2,584.0,418.0,2,389....   \n",
       "90  949796.png  0.0,0.0,0,416.0,268.0,1,383.0,341.0,2,0.0,0.0,...   \n",
       "91  526920.png  385.0,264.0,2,606.0,233.0,2,493.0,384.0,2,350....   \n",
       "\n",
       "                                              polygon  polygon_cnt  pose_cnt  \n",
       "0                                                 NaN          0.0       0.0  \n",
       "1                                                 NaN          0.0       0.0  \n",
       "2                                                 NaN          0.0       0.0  \n",
       "3   (242.8,130.0,264.0,111.8,268.5,111.8,271.5,107...          2.0      15.0  \n",
       "4   (226.1,267.0,229.2,258.5,236.6,254.3,266.0,254...          1.0      15.0  \n",
       "..                                                ...          ...       ...  \n",
       "87  (498.9,131.5,500.2,127.7,507.8,120.1,530.6,106...          1.0      30.0  \n",
       "88  (41.7,96.0,253.2,93.5,289.9,185.9,292.5,185.9,...          1.0      30.0  \n",
       "89  (271.3,145.4,272.6,140.4,281.4,132.8,293.9,122...          1.0      15.0  \n",
       "90  (378.4,200.4,390.6,198.0,407.7,198.0,412.5,200...          1.0      15.0  \n",
       "91  (366.9,109.6,377.7,109.6,379.2,111.1,391.5,112...          1.0      15.0  \n",
       "\n",
       "[92 rows x 5 columns]"
      ],
      "text/html": "<div>\n<style scoped>\n    .dataframe tbody tr th:only-of-type {\n        vertical-align: middle;\n    }\n\n    .dataframe tbody tr th {\n        vertical-align: top;\n    }\n\n    .dataframe thead th {\n        text-align: right;\n    }\n</style>\n<table border=\"1\" class=\"dataframe\">\n  <thead>\n    <tr style=\"text-align: right;\">\n      <th></th>\n      <th>filename</th>\n      <th>pose</th>\n      <th>polygon</th>\n      <th>polygon_cnt</th>\n      <th>pose_cnt</th>\n    </tr>\n  </thead>\n  <tbody>\n    <tr>\n      <th>0</th>\n      <td>952799.jpg</td>\n      <td>NaN</td>\n      <td>NaN</td>\n      <td>0.0</td>\n      <td>0.0</td>\n    </tr>\n    <tr>\n      <th>1</th>\n      <td>626913.jpg</td>\n      <td>NaN</td>\n      <td>NaN</td>\n      <td>0.0</td>\n      <td>0.0</td>\n    </tr>\n    <tr>\n      <th>2</th>\n      <td>204037.jpg</td>\n      <td>NaN</td>\n      <td>NaN</td>\n      <td>0.0</td>\n      <td>0.0</td>\n    </tr>\n    <tr>\n      <th>3</th>\n      <td>771734.jpg</td>\n      <td>238.0,191.0,2,428.0,207.0,2,334.0,291.0,2,237....</td>\n      <td>(242.8,130.0,264.0,111.8,268.5,111.8,271.5,107...</td>\n      <td>2.0</td>\n      <td>15.0</td>\n    </tr>\n    <tr>\n      <th>4</th>\n      <td>895632.jpg</td>\n      <td>819.0,362.0,2,795.0,456.0,2,744.0,412.0,2,732....</td>\n      <td>(226.1,267.0,229.2,258.5,236.6,254.3,266.0,254...</td>\n      <td>1.0</td>\n      <td>15.0</td>\n    </tr>\n    <tr>\n      <th>...</th>\n      <td>...</td>\n      <td>...</td>\n      <td>...</td>\n      <td>...</td>\n      <td>...</td>\n    </tr>\n    <tr>\n      <th>87</th>\n      <td>140435.png</td>\n      <td>515.0,199.0,2,604.0,185.0,2,556.0,263.0,2,0.0,...</td>\n      <td>(498.9,131.5,500.2,127.7,507.8,120.1,530.6,106...</td>\n      <td>1.0</td>\n      <td>30.0</td>\n    </tr>\n    <tr>\n      <th>88</th>\n      <td>140435.png</td>\n      <td>515.0,199.0,2,604.0,185.0,2,556.0,263.0,2,0.0,...</td>\n      <td>(41.7,96.0,253.2,93.5,289.9,185.9,292.5,185.9,...</td>\n      <td>1.0</td>\n      <td>30.0</td>\n    </tr>\n    <tr>\n      <th>89</th>\n      <td>948061.png</td>\n      <td>492.0,316.0,2,674.0,315.0,2,584.0,418.0,2,389....</td>\n      <td>(271.3,145.4,272.6,140.4,281.4,132.8,293.9,122...</td>\n      <td>1.0</td>\n      <td>15.0</td>\n    </tr>\n    <tr>\n      <th>90</th>\n      <td>949796.png</td>\n      <td>0.0,0.0,0,416.0,268.0,1,383.0,341.0,2,0.0,0.0,...</td>\n      <td>(378.4,200.4,390.6,198.0,407.7,198.0,412.5,200...</td>\n      <td>1.0</td>\n      <td>15.0</td>\n    </tr>\n    <tr>\n      <th>91</th>\n      <td>526920.png</td>\n      <td>385.0,264.0,2,606.0,233.0,2,493.0,384.0,2,350....</td>\n      <td>(366.9,109.6,377.7,109.6,379.2,111.1,391.5,112...</td>\n      <td>1.0</td>\n      <td>15.0</td>\n    </tr>\n  </tbody>\n</table>\n<p>92 rows × 5 columns</p>\n</div>"
     },
     "metadata": {},
     "execution_count": 8
    }
   ],
   "source": [
    "df_label = pd.DataFrame({\"filename\": file_list, \"pose\": pose_list, \"polygon\": polygon_list})\n",
    "df_label[\"polygon_cnt\"] = df_label.polygon.str.count(\"\\\\)\\\\(\") + 1\n",
    "df_label[\"polygon_cnt\"] = df_label[\"polygon_cnt\"].fillna(0)\n",
    "df_label[\"pose_cnt\"] = (df_label.pose.str.count(\",\")) * 2/3 / 2\n",
    "df_label[\"pose_cnt\"] = df_label[\"pose_cnt\"].fillna(0)\n",
    "df_label"
   ]
  },
  {
   "cell_type": "code",
   "execution_count": 9,
   "metadata": {},
   "outputs": [
    {
     "output_type": "execute_result",
     "data": {
      "text/plain": [
       "1    80\n",
       "2     6\n",
       "Name: filename, dtype: int64"
      ]
     },
     "metadata": {},
     "execution_count": 9
    }
   ],
   "source": [
    "df_label.filename.value_counts().reset_index().filename.value_counts()"
   ]
  },
  {
   "cell_type": "code",
   "execution_count": 10,
   "metadata": {},
   "outputs": [
    {
     "output_type": "execute_result",
     "data": {
      "text/plain": [
       "1.0     68\n",
       "2.0      9\n",
       "3.0      6\n",
       "4.0      4\n",
       "0.0      3\n",
       "5.0      1\n",
       "11.0     1\n",
       "Name: polygon_cnt, dtype: int64"
      ]
     },
     "metadata": {},
     "execution_count": 10
    }
   ],
   "source": [
    "df_label.polygon_cnt.value_counts()"
   ]
  },
  {
   "cell_type": "code",
   "execution_count": 11,
   "metadata": {},
   "outputs": [
    {
     "output_type": "execute_result",
     "data": {
      "text/plain": [
       "15.0    77\n",
       "30.0    12\n",
       "0.0      3\n",
       "Name: pose_cnt, dtype: int64"
      ]
     },
     "metadata": {},
     "execution_count": 11
    }
   ],
   "source": [
    "df_label.pose_cnt.value_counts()"
   ]
  },
  {
   "source": [
    "Fix `pose_cnt` > 15"
   ],
   "cell_type": "markdown",
   "metadata": {}
  },
  {
   "cell_type": "code",
   "execution_count": 12,
   "metadata": {},
   "outputs": [],
   "source": [
    "df_label['r'] = df_label.groupby(['filename']).cumcount()+1\n",
    "for i, r in df_label[df_label['pose_cnt'] > 0].iterrows():\n",
    "    res = get_pose(r['pose'], r['r'])\n",
    "    df_label.loc[i, 'pose'] = res\n"
   ]
  },
  {
   "cell_type": "code",
   "execution_count": 13,
   "metadata": {},
   "outputs": [
    {
     "output_type": "execute_result",
     "data": {
      "text/plain": [
       "15.0    89\n",
       "0.0      3\n",
       "Name: pose_cnt, dtype: int64"
      ]
     },
     "metadata": {},
     "execution_count": 13
    }
   ],
   "source": [
    "df_label[\"pose_cnt\"] = (df_label.pose.str.count(\",\") + 1) * 2/3 / 2\n",
    "df_label[\"pose_cnt\"] = df_label[\"pose_cnt\"].fillna(0)\n",
    "df_label.pose_cnt.value_counts()"
   ]
  },
  {
   "cell_type": "code",
   "execution_count": 14,
   "metadata": {},
   "outputs": [],
   "source": [
    "df_label.loc[df_label[\"polygon_cnt\"] > 0, \"is_crowd\"] = \\\n",
    "    np.where(df_label.loc[df_label[\"polygon_cnt\"] > 0, \"polygon_cnt\"] > 1, 1, 0)"
   ]
  },
  {
   "cell_type": "code",
   "execution_count": 15,
   "metadata": {},
   "outputs": [
    {
     "output_type": "execute_result",
     "data": {
      "text/plain": [
       "      filename                                               pose  \\\n",
       "0   952799.jpg                                                NaN   \n",
       "1   626913.jpg                                                NaN   \n",
       "2   204037.jpg                                                NaN   \n",
       "3   771734.jpg  238.0,191.0,2,428.0,207.0,2,334.0,291.0,2,237....   \n",
       "4   895632.jpg  819.0,362.0,2,795.0,456.0,2,744.0,412.0,2,732....   \n",
       "..         ...                                                ...   \n",
       "87  140435.png  515.0,199.0,2,604.0,185.0,2,556.0,263.0,2,0.0,...   \n",
       "88  140435.png  0.0,0.0,0,0.0,0.0,0,0.0,0.0,0,277.0,287.0,2,38...   \n",
       "89  948061.png  492.0,316.0,2,674.0,315.0,2,584.0,418.0,2,389....   \n",
       "90  949796.png  0.0,0.0,0,416.0,268.0,1,383.0,341.0,2,0.0,0.0,...   \n",
       "91  526920.png  385.0,264.0,2,606.0,233.0,2,493.0,384.0,2,350....   \n",
       "\n",
       "                                              polygon  polygon_cnt  pose_cnt  \\\n",
       "0                                                 NaN          0.0       0.0   \n",
       "1                                                 NaN          0.0       0.0   \n",
       "2                                                 NaN          0.0       0.0   \n",
       "3   (242.8,130.0,264.0,111.8,268.5,111.8,271.5,107...          2.0      15.0   \n",
       "4   (226.1,267.0,229.2,258.5,236.6,254.3,266.0,254...          1.0      15.0   \n",
       "..                                                ...          ...       ...   \n",
       "87  (498.9,131.5,500.2,127.7,507.8,120.1,530.6,106...          1.0      15.0   \n",
       "88  (41.7,96.0,253.2,93.5,289.9,185.9,292.5,185.9,...          1.0      15.0   \n",
       "89  (271.3,145.4,272.6,140.4,281.4,132.8,293.9,122...          1.0      15.0   \n",
       "90  (378.4,200.4,390.6,198.0,407.7,198.0,412.5,200...          1.0      15.0   \n",
       "91  (366.9,109.6,377.7,109.6,379.2,111.1,391.5,112...          1.0      15.0   \n",
       "\n",
       "    r  is_crowd  \n",
       "0   1       NaN  \n",
       "1   1       NaN  \n",
       "2   1       NaN  \n",
       "3   1       1.0  \n",
       "4   1       0.0  \n",
       ".. ..       ...  \n",
       "87  1       0.0  \n",
       "88  2       0.0  \n",
       "89  1       0.0  \n",
       "90  1       0.0  \n",
       "91  1       0.0  \n",
       "\n",
       "[92 rows x 7 columns]"
      ],
      "text/html": "<div>\n<style scoped>\n    .dataframe tbody tr th:only-of-type {\n        vertical-align: middle;\n    }\n\n    .dataframe tbody tr th {\n        vertical-align: top;\n    }\n\n    .dataframe thead th {\n        text-align: right;\n    }\n</style>\n<table border=\"1\" class=\"dataframe\">\n  <thead>\n    <tr style=\"text-align: right;\">\n      <th></th>\n      <th>filename</th>\n      <th>pose</th>\n      <th>polygon</th>\n      <th>polygon_cnt</th>\n      <th>pose_cnt</th>\n      <th>r</th>\n      <th>is_crowd</th>\n    </tr>\n  </thead>\n  <tbody>\n    <tr>\n      <th>0</th>\n      <td>952799.jpg</td>\n      <td>NaN</td>\n      <td>NaN</td>\n      <td>0.0</td>\n      <td>0.0</td>\n      <td>1</td>\n      <td>NaN</td>\n    </tr>\n    <tr>\n      <th>1</th>\n      <td>626913.jpg</td>\n      <td>NaN</td>\n      <td>NaN</td>\n      <td>0.0</td>\n      <td>0.0</td>\n      <td>1</td>\n      <td>NaN</td>\n    </tr>\n    <tr>\n      <th>2</th>\n      <td>204037.jpg</td>\n      <td>NaN</td>\n      <td>NaN</td>\n      <td>0.0</td>\n      <td>0.0</td>\n      <td>1</td>\n      <td>NaN</td>\n    </tr>\n    <tr>\n      <th>3</th>\n      <td>771734.jpg</td>\n      <td>238.0,191.0,2,428.0,207.0,2,334.0,291.0,2,237....</td>\n      <td>(242.8,130.0,264.0,111.8,268.5,111.8,271.5,107...</td>\n      <td>2.0</td>\n      <td>15.0</td>\n      <td>1</td>\n      <td>1.0</td>\n    </tr>\n    <tr>\n      <th>4</th>\n      <td>895632.jpg</td>\n      <td>819.0,362.0,2,795.0,456.0,2,744.0,412.0,2,732....</td>\n      <td>(226.1,267.0,229.2,258.5,236.6,254.3,266.0,254...</td>\n      <td>1.0</td>\n      <td>15.0</td>\n      <td>1</td>\n      <td>0.0</td>\n    </tr>\n    <tr>\n      <th>...</th>\n      <td>...</td>\n      <td>...</td>\n      <td>...</td>\n      <td>...</td>\n      <td>...</td>\n      <td>...</td>\n      <td>...</td>\n    </tr>\n    <tr>\n      <th>87</th>\n      <td>140435.png</td>\n      <td>515.0,199.0,2,604.0,185.0,2,556.0,263.0,2,0.0,...</td>\n      <td>(498.9,131.5,500.2,127.7,507.8,120.1,530.6,106...</td>\n      <td>1.0</td>\n      <td>15.0</td>\n      <td>1</td>\n      <td>0.0</td>\n    </tr>\n    <tr>\n      <th>88</th>\n      <td>140435.png</td>\n      <td>0.0,0.0,0,0.0,0.0,0,0.0,0.0,0,277.0,287.0,2,38...</td>\n      <td>(41.7,96.0,253.2,93.5,289.9,185.9,292.5,185.9,...</td>\n      <td>1.0</td>\n      <td>15.0</td>\n      <td>2</td>\n      <td>0.0</td>\n    </tr>\n    <tr>\n      <th>89</th>\n      <td>948061.png</td>\n      <td>492.0,316.0,2,674.0,315.0,2,584.0,418.0,2,389....</td>\n      <td>(271.3,145.4,272.6,140.4,281.4,132.8,293.9,122...</td>\n      <td>1.0</td>\n      <td>15.0</td>\n      <td>1</td>\n      <td>0.0</td>\n    </tr>\n    <tr>\n      <th>90</th>\n      <td>949796.png</td>\n      <td>0.0,0.0,0,416.0,268.0,1,383.0,341.0,2,0.0,0.0,...</td>\n      <td>(378.4,200.4,390.6,198.0,407.7,198.0,412.5,200...</td>\n      <td>1.0</td>\n      <td>15.0</td>\n      <td>1</td>\n      <td>0.0</td>\n    </tr>\n    <tr>\n      <th>91</th>\n      <td>526920.png</td>\n      <td>385.0,264.0,2,606.0,233.0,2,493.0,384.0,2,350....</td>\n      <td>(366.9,109.6,377.7,109.6,379.2,111.1,391.5,112...</td>\n      <td>1.0</td>\n      <td>15.0</td>\n      <td>1</td>\n      <td>0.0</td>\n    </tr>\n  </tbody>\n</table>\n<p>92 rows × 7 columns</p>\n</div>"
     },
     "metadata": {},
     "execution_count": 15
    }
   ],
   "source": [
    "df_label"
   ]
  },
  {
   "source": [
    "### Convert to COCO format"
   ],
   "cell_type": "markdown",
   "metadata": {}
  },
  {
   "source": [
    "Images required these values:\n",
    "\n",
    "* file_name\n",
    "* height, width\n",
    "* id\n",
    "\n",
    "Annotation consists of:\n",
    "\n",
    "* segmentation\n",
    "* num_keypoints\n",
    "* area\n",
    "* is_crowd\n",
    "* keypoints\n",
    "* image_id\n",
    "* bbox\n",
    "* category_id\n",
    "* id"
   ],
   "cell_type": "markdown",
   "metadata": {}
  },
  {
   "cell_type": "code",
   "execution_count": 16,
   "metadata": {},
   "outputs": [],
   "source": [
    "with open(\"data/cfg/cfg_2d_v1.json\") as f:\n",
    "    cfg = json.load(f)"
   ]
  },
  {
   "cell_type": "code",
   "execution_count": 17,
   "metadata": {},
   "outputs": [],
   "source": [
    "for idx, row in df_metadata.iterrows():\n",
    "    cfg[\"images\"].append(\n",
    "        {\n",
    "            \"file_name\": row[\"filename\"],\n",
    "            \"height\": row[\"height\"],\n",
    "            \"width\": row[\"width\"],\n",
    "            \"id\": row[\"id\"]\n",
    "        }\n",
    "    )"
   ]
  },
  {
   "cell_type": "code",
   "execution_count": 18,
   "metadata": {},
   "outputs": [
    {
     "output_type": "execute_result",
     "data": {
      "text/plain": [
       "{'images': [{'file_name': '591443.png',\n",
       "   'height': 720,\n",
       "   'width': 1280,\n",
       "   'id': 591443},\n",
       "  {'file_name': '356637.jpg', 'height': 506, 'width': 900, 'id': 356637},\n",
       "  {'file_name': '118330.png', 'height': 1080, 'width': 1920, 'id': 118330},\n",
       "  {'file_name': '661319.png', 'height': 720, 'width': 1280, 'id': 661319},\n",
       "  {'file_name': '626913.jpg', 'height': 427, 'width': 640, 'id': 626913},\n",
       "  {'file_name': '143254.png', 'height': 1080, 'width': 1920, 'id': 143254},\n",
       "  {'file_name': '311231.jpg', 'height': 425, 'width': 640, 'id': 311231},\n",
       "  {'file_name': '409779.png', 'height': 1080, 'width': 1920, 'id': 409779},\n",
       "  {'file_name': '465853.png', 'height': 720, 'width': 1280, 'id': 465853},\n",
       "  {'file_name': '988638.png', 'height': 1080, 'width': 1920, 'id': 988638},\n",
       "  {'file_name': '368532.png', 'height': 360, 'width': 640, 'id': 368532},\n",
       "  {'file_name': '528003.png', 'height': 1080, 'width': 1920, 'id': 528003},\n",
       "  {'file_name': '771734.jpg', 'height': 1093, 'width': 640, 'id': 771734},\n",
       "  {'file_name': '898996.png', 'height': 1080, 'width': 1920, 'id': 898996},\n",
       "  {'file_name': '592953.png', 'height': 720, 'width': 1280, 'id': 592953},\n",
       "  {'file_name': '607884.jpg', 'height': 640, 'width': 425, 'id': 607884},\n",
       "  {'file_name': '800258.jpg', 'height': 435, 'width': 640, 'id': 800258},\n",
       "  {'file_name': '530935.png', 'height': 970, 'width': 1497, 'id': 530935},\n",
       "  {'file_name': '134928.png', 'height': 1080, 'width': 1920, 'id': 134928},\n",
       "  {'file_name': '969698.png', 'height': 1043, 'width': 1448, 'id': 969698},\n",
       "  {'file_name': '126134.jpg', 'height': 766, 'width': 760, 'id': 126134},\n",
       "  {'file_name': '602153.png', 'height': 1080, 'width': 1920, 'id': 602153},\n",
       "  {'file_name': '526920.png', 'height': 926, 'width': 840, 'id': 526920},\n",
       "  {'file_name': '727927.png', 'height': 720, 'width': 1280, 'id': 727927},\n",
       "  {'file_name': '895632.jpg', 'height': 759, 'width': 1140, 'id': 895632},\n",
       "  {'file_name': '283494.png', 'height': 240, 'width': 320, 'id': 283494},\n",
       "  {'file_name': '143190.png', 'height': 1080, 'width': 1920, 'id': 143190},\n",
       "  {'file_name': '141624.png', 'height': 480, 'width': 640, 'id': 141624},\n",
       "  {'file_name': '085302.png', 'height': 1080, 'width': 1920, 'id': 85302},\n",
       "  {'file_name': '777324.png', 'height': 931, 'width': 1380, 'id': 777324},\n",
       "  {'file_name': '336825.png', 'height': 927, 'width': 1478, 'id': 336825},\n",
       "  {'file_name': '232738.png', 'height': 691, 'width': 844, 'id': 232738},\n",
       "  {'file_name': '969689.png', 'height': 720, 'width': 1280, 'id': 969689},\n",
       "  {'file_name': '394854.png', 'height': 720, 'width': 1280, 'id': 394854},\n",
       "  {'file_name': '661633.png', 'height': 813, 'width': 1178, 'id': 661633},\n",
       "  {'file_name': '180912.png', 'height': 240, 'width': 320, 'id': 180912},\n",
       "  {'file_name': '575220.png', 'height': 240, 'width': 320, 'id': 575220},\n",
       "  {'file_name': '528655.png', 'height': 737, 'width': 855, 'id': 528655},\n",
       "  {'file_name': '952799.jpg', 'height': 742, 'width': 1344, 'id': 952799},\n",
       "  {'file_name': '146186.png', 'height': 934, 'width': 1576, 'id': 146186},\n",
       "  {'file_name': '721030.png', 'height': 605, 'width': 835, 'id': 721030},\n",
       "  {'file_name': '965295.png', 'height': 1080, 'width': 1920, 'id': 965295},\n",
       "  {'file_name': '529199.png', 'height': 976, 'width': 1730, 'id': 529199},\n",
       "  {'file_name': '569756.jpg', 'height': 640, 'width': 426, 'id': 569756},\n",
       "  {'file_name': '933760.jpg', 'height': 400, 'width': 800, 'id': 933760},\n",
       "  {'file_name': '988860.png', 'height': 1080, 'width': 1920, 'id': 988860},\n",
       "  {'file_name': '949796.png', 'height': 879, 'width': 1037, 'id': 949796},\n",
       "  {'file_name': '351722.jpg', 'height': 1024, 'width': 683, 'id': 351722},\n",
       "  {'file_name': '308870.jpg', 'height': 512, 'width': 652, 'id': 308870},\n",
       "  {'file_name': '379525.png', 'height': 1080, 'width': 1920, 'id': 379525},\n",
       "  {'file_name': '545086.png', 'height': 1045, 'width': 1765, 'id': 545086},\n",
       "  {'file_name': '257424.jpg', 'height': 423, 'width': 640, 'id': 257424},\n",
       "  {'file_name': '091632.png', 'height': 1080, 'width': 1920, 'id': 91632},\n",
       "  {'file_name': '318509.jpg', 'height': 750, 'width': 1000, 'id': 318509},\n",
       "  {'file_name': '603889.png', 'height': 1080, 'width': 1920, 'id': 603889},\n",
       "  {'file_name': '217404.png', 'height': 1080, 'width': 1920, 'id': 217404},\n",
       "  {'file_name': '948061.png', 'height': 906, 'width': 1183, 'id': 948061},\n",
       "  {'file_name': '759158.png', 'height': 617, 'width': 802, 'id': 759158},\n",
       "  {'file_name': '873425.jpg', 'height': 1667, 'width': 2500, 'id': 873425},\n",
       "  {'file_name': '716101.jpg', 'height': 1200, 'width': 900, 'id': 716101},\n",
       "  {'file_name': '668756.png', 'height': 1080, 'width': 1920, 'id': 668756},\n",
       "  {'file_name': '198464.png', 'height': 1044, 'width': 1617, 'id': 198464},\n",
       "  {'file_name': '105779.png', 'height': 718, 'width': 792, 'id': 105779},\n",
       "  {'file_name': '049349.png', 'height': 1080, 'width': 1920, 'id': 49349},\n",
       "  {'file_name': '078630.png', 'height': 240, 'width': 320, 'id': 78630},\n",
       "  {'file_name': '239549.png', 'height': 1080, 'width': 1920, 'id': 239549},\n",
       "  {'file_name': '775588.png', 'height': 1047, 'width': 1629, 'id': 775588},\n",
       "  {'file_name': '925956.png', 'height': 1080, 'width': 1920, 'id': 925956},\n",
       "  {'file_name': '425113.png', 'height': 479, 'width': 626, 'id': 425113},\n",
       "  {'file_name': '913404.png', 'height': 740, 'width': 782, 'id': 913404},\n",
       "  {'file_name': '888355.jpg', 'height': 630, 'width': 1200, 'id': 888355},\n",
       "  {'file_name': '140435.png', 'height': 914, 'width': 856, 'id': 140435},\n",
       "  {'file_name': '926482.jpg', 'height': 512, 'width': 682, 'id': 926482},\n",
       "  {'file_name': '617487.jpg', 'height': 159, 'width': 318, 'id': 617487},\n",
       "  {'file_name': '047174.png', 'height': 1080, 'width': 1920, 'id': 47174},\n",
       "  {'file_name': '204037.jpg', 'height': 259, 'width': 194, 'id': 204037},\n",
       "  {'file_name': '276884.png', 'height': 722, 'width': 995, 'id': 276884},\n",
       "  {'file_name': '621875.jpg', 'height': 1200, 'width': 1600, 'id': 621875},\n",
       "  {'file_name': '020267.jpg', 'height': 600, 'width': 468, 'id': 20267},\n",
       "  {'file_name': '256834.png', 'height': 1080, 'width': 1920, 'id': 256834},\n",
       "  {'file_name': '084510.png', 'height': 800, 'width': 1378, 'id': 84510},\n",
       "  {'file_name': '118857.jpg', 'height': 640, 'width': 422, 'id': 118857},\n",
       "  {'file_name': '508694.png', 'height': 985, 'width': 1733, 'id': 508694},\n",
       "  {'file_name': '948995.png', 'height': 720, 'width': 1280, 'id': 948995},\n",
       "  {'file_name': '967962.png', 'height': 1059, 'width': 1504, 'id': 967962},\n",
       "  {'file_name': '950880.png', 'height': 1080, 'width': 1920, 'id': 950880}],\n",
       " 'categories': [{'supercategory': 'person',\n",
       "   'id': 1,\n",
       "   'name': 'astronaut',\n",
       "   'keypoints': ['right_head',\n",
       "    'left_head',\n",
       "    'base_head',\n",
       "    'right_shoulder',\n",
       "    'right_elbow',\n",
       "    'right_hand',\n",
       "    'left_shoulder',\n",
       "    'left_elbow',\n",
       "    'left_hand',\n",
       "    'right_hip',\n",
       "    'right_knee',\n",
       "    'right_foot',\n",
       "    'left_hip',\n",
       "    'left_knee',\n",
       "    'left_foot'],\n",
       "   'skeleton': [[1, 3],\n",
       "    [2, 3],\n",
       "    [3, 4],\n",
       "    [4, 5],\n",
       "    [5, 6],\n",
       "    [3, 7],\n",
       "    [7, 8],\n",
       "    [8, 9],\n",
       "    [3, 10],\n",
       "    [10, 11],\n",
       "    [11, 12],\n",
       "    [3, 13],\n",
       "    [13, 14],\n",
       "    [14, 15]]}],\n",
       " 'annotations': []}"
      ]
     },
     "metadata": {},
     "execution_count": 18
    }
   ],
   "source": [
    "cfg"
   ]
  }
 ]
}