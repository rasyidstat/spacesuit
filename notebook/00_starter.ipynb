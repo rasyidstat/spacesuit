{
 "metadata": {
  "language_info": {
   "codemirror_mode": {
    "name": "ipython",
    "version": 3
   },
   "file_extension": ".py",
   "mimetype": "text/x-python",
   "name": "python",
   "nbconvert_exporter": "python",
   "pygments_lexer": "ipython3",
   "version": "3.8.8"
  },
  "orig_nbformat": 2,
  "kernelspec": {
   "name": "python388jvsc74a57bd0b785146620a81f682ebfee620caeee6595cb50d8d294bc295bd3048576636ef0",
   "display_name": "Python 3.8.8 64-bit ('detector': conda)"
  },
  "metadata": {
   "interpreter": {
    "hash": "b785146620a81f682ebfee620caeee6595cb50d8d294bc295bd3048576636ef0"
   }
  }
 },
 "nbformat": 4,
 "nbformat_minor": 2,
 "cells": [
  {
   "source": [
    "On this starter notebook, we aim to:\n",
    "\n",
    "* Prepare the data for instance segmentation (convert to COCO format)\n",
    "* Visualize the data (image and processing)\n",
    "\n",
    "COCO format example:\n",
    "\n",
    "* https://www.kaggle.com/mlwhiz/simpsons-main-characters\n",
    "* https://www.immersivelimit.com/tutorials/create-coco-annotations-from-scratch\n",
    "\n",
    "Insights:\n",
    "\n",
    "* 6 images with multiple astronauts\n",
    "* 68 polygons are single (~73%)\n",
    "    "
   ],
   "cell_type": "markdown",
   "metadata": {}
  },
  {
   "cell_type": "code",
   "execution_count": 1,
   "metadata": {},
   "outputs": [],
   "source": [
    "import os\n",
    "os.chdir(\"../\")"
   ]
  },
  {
   "cell_type": "code",
   "execution_count": 2,
   "metadata": {},
   "outputs": [],
   "source": [
    "import pandas as pd \n",
    "import numpy as np \n",
    "import glob\n",
    "from PIL import Image"
   ]
  },
  {
   "cell_type": "code",
   "execution_count": 3,
   "metadata": {},
   "outputs": [],
   "source": [
    "IMAGE_TRAIN_PATH = \"data/raw/train/images/\""
   ]
  },
  {
   "cell_type": "code",
   "execution_count": 4,
   "metadata": {},
   "outputs": [],
   "source": [
    "def generate_image_metadata(dirname):\n",
    "    \"\"\"\n",
    "    Extract the width and height\n",
    "    \"\"\"\n",
    "    file_list = []\n",
    "    width_list = []\n",
    "    height_list = []\n",
    "    for filename in glob.glob(dirname + '*.*'):\n",
    "        img = Image.open(filename)\n",
    "        width, height = img.size\n",
    "        file_list.append(os.path.basename(filename))\n",
    "        width_list.append(width)\n",
    "        height_list.append(height)\n",
    "    \n",
    "    res = pd.DataFrame({\"filename\": file_list, \"width\": width_list, \"height\":height_list})\n",
    "    return res"
   ]
  },
  {
   "source": [
    "## Data Preparation"
   ],
   "cell_type": "markdown",
   "metadata": {}
  },
  {
   "cell_type": "code",
   "execution_count": 5,
   "metadata": {},
   "outputs": [],
   "source": [
    "df_metadata = generate_image_metadata(IMAGE_TRAIN_PATH)"
   ]
  },
  {
   "cell_type": "code",
   "execution_count": 6,
   "metadata": {},
   "outputs": [],
   "source": [
    "with open(IMAGE_TRAIN_PATH + \"annotations/truth2d.txt\") as f:\n",
    "    labels = f.read().splitlines()"
   ]
  },
  {
   "cell_type": "code",
   "execution_count": 7,
   "metadata": {
    "tags": []
   },
   "outputs": [],
   "source": [
    "file_list = []\n",
    "pose_list = []\n",
    "polygon_list = []\n",
    "for label in labels:\n",
    "    # Split polygon\n",
    "    data = label.split(\"[\")\n",
    "    file_pose = data[0].split(\",\")\n",
    "\n",
    "    if len(data) > 1:\n",
    "        for polygon in data[1:]:\n",
    "            file_list.append(file_pose[0])\n",
    "            pose_list.append(\",\".join(file_pose[1:]))\n",
    "            polygon_list.append(polygon.replace(\"]\", \"\"))\n",
    "    else:\n",
    "        file_list.append(file_pose[0])\n",
    "        pose_list.append(np.NaN)\n",
    "        polygon_list.append(np.NaN)"
   ]
  },
  {
   "cell_type": "code",
   "execution_count": 8,
   "metadata": {},
   "outputs": [
    {
     "output_type": "execute_result",
     "data": {
      "text/plain": [
       "      filename                                               pose  \\\n",
       "0   952799.jpg                                                NaN   \n",
       "1   626913.jpg                                                NaN   \n",
       "2   204037.jpg                                                NaN   \n",
       "3   771734.jpg  238.0,191.0,2,428.0,207.0,2,334.0,291.0,2,237....   \n",
       "4   895632.jpg  819.0,362.0,2,795.0,456.0,2,744.0,412.0,2,732....   \n",
       "..         ...                                                ...   \n",
       "87  140435.png  515.0,199.0,2,604.0,185.0,2,556.0,263.0,2,0.0,...   \n",
       "88  140435.png  515.0,199.0,2,604.0,185.0,2,556.0,263.0,2,0.0,...   \n",
       "89  948061.png  492.0,316.0,2,674.0,315.0,2,584.0,418.0,2,389....   \n",
       "90  949796.png  0.0,0.0,0,416.0,268.0,1,383.0,341.0,2,0.0,0.0,...   \n",
       "91  526920.png  385.0,264.0,2,606.0,233.0,2,493.0,384.0,2,350....   \n",
       "\n",
       "                                              polygon  polygon_cnt  \n",
       "0                                                 NaN          0.0  \n",
       "1                                                 NaN          0.0  \n",
       "2                                                 NaN          0.0  \n",
       "3   (242.8,130.0,264.0,111.8,268.5,111.8,271.5,107...          2.0  \n",
       "4   (226.1,267.0,229.2,258.5,236.6,254.3,266.0,254...          1.0  \n",
       "..                                                ...          ...  \n",
       "87  (498.9,131.5,500.2,127.7,507.8,120.1,530.6,106...          1.0  \n",
       "88  (41.7,96.0,253.2,93.5,289.9,185.9,292.5,185.9,...          1.0  \n",
       "89  (271.3,145.4,272.6,140.4,281.4,132.8,293.9,122...          1.0  \n",
       "90  (378.4,200.4,390.6,198.0,407.7,198.0,412.5,200...          1.0  \n",
       "91  (366.9,109.6,377.7,109.6,379.2,111.1,391.5,112...          1.0  \n",
       "\n",
       "[92 rows x 4 columns]"
      ],
      "text/html": "<div>\n<style scoped>\n    .dataframe tbody tr th:only-of-type {\n        vertical-align: middle;\n    }\n\n    .dataframe tbody tr th {\n        vertical-align: top;\n    }\n\n    .dataframe thead th {\n        text-align: right;\n    }\n</style>\n<table border=\"1\" class=\"dataframe\">\n  <thead>\n    <tr style=\"text-align: right;\">\n      <th></th>\n      <th>filename</th>\n      <th>pose</th>\n      <th>polygon</th>\n      <th>polygon_cnt</th>\n    </tr>\n  </thead>\n  <tbody>\n    <tr>\n      <th>0</th>\n      <td>952799.jpg</td>\n      <td>NaN</td>\n      <td>NaN</td>\n      <td>0.0</td>\n    </tr>\n    <tr>\n      <th>1</th>\n      <td>626913.jpg</td>\n      <td>NaN</td>\n      <td>NaN</td>\n      <td>0.0</td>\n    </tr>\n    <tr>\n      <th>2</th>\n      <td>204037.jpg</td>\n      <td>NaN</td>\n      <td>NaN</td>\n      <td>0.0</td>\n    </tr>\n    <tr>\n      <th>3</th>\n      <td>771734.jpg</td>\n      <td>238.0,191.0,2,428.0,207.0,2,334.0,291.0,2,237....</td>\n      <td>(242.8,130.0,264.0,111.8,268.5,111.8,271.5,107...</td>\n      <td>2.0</td>\n    </tr>\n    <tr>\n      <th>4</th>\n      <td>895632.jpg</td>\n      <td>819.0,362.0,2,795.0,456.0,2,744.0,412.0,2,732....</td>\n      <td>(226.1,267.0,229.2,258.5,236.6,254.3,266.0,254...</td>\n      <td>1.0</td>\n    </tr>\n    <tr>\n      <th>...</th>\n      <td>...</td>\n      <td>...</td>\n      <td>...</td>\n      <td>...</td>\n    </tr>\n    <tr>\n      <th>87</th>\n      <td>140435.png</td>\n      <td>515.0,199.0,2,604.0,185.0,2,556.0,263.0,2,0.0,...</td>\n      <td>(498.9,131.5,500.2,127.7,507.8,120.1,530.6,106...</td>\n      <td>1.0</td>\n    </tr>\n    <tr>\n      <th>88</th>\n      <td>140435.png</td>\n      <td>515.0,199.0,2,604.0,185.0,2,556.0,263.0,2,0.0,...</td>\n      <td>(41.7,96.0,253.2,93.5,289.9,185.9,292.5,185.9,...</td>\n      <td>1.0</td>\n    </tr>\n    <tr>\n      <th>89</th>\n      <td>948061.png</td>\n      <td>492.0,316.0,2,674.0,315.0,2,584.0,418.0,2,389....</td>\n      <td>(271.3,145.4,272.6,140.4,281.4,132.8,293.9,122...</td>\n      <td>1.0</td>\n    </tr>\n    <tr>\n      <th>90</th>\n      <td>949796.png</td>\n      <td>0.0,0.0,0,416.0,268.0,1,383.0,341.0,2,0.0,0.0,...</td>\n      <td>(378.4,200.4,390.6,198.0,407.7,198.0,412.5,200...</td>\n      <td>1.0</td>\n    </tr>\n    <tr>\n      <th>91</th>\n      <td>526920.png</td>\n      <td>385.0,264.0,2,606.0,233.0,2,493.0,384.0,2,350....</td>\n      <td>(366.9,109.6,377.7,109.6,379.2,111.1,391.5,112...</td>\n      <td>1.0</td>\n    </tr>\n  </tbody>\n</table>\n<p>92 rows × 4 columns</p>\n</div>"
     },
     "metadata": {},
     "execution_count": 8
    }
   ],
   "source": [
    "df_label = pd.DataFrame({\"filename\": file_list, \"pose\": pose_list, \"polygon\": polygon_list})\n",
    "df_label[\"polygon_cnt\"] = df_label.polygon.str.count(\"\\\\)\\\\(\") + 1\n",
    "df_label[\"polygon_cnt\"] = df_label[\"polygon_cnt\"].fillna(0)\n",
    "df_label"
   ]
  },
  {
   "cell_type": "code",
   "execution_count": 9,
   "metadata": {},
   "outputs": [
    {
     "output_type": "execute_result",
     "data": {
      "text/plain": [
       "1    80\n",
       "2     6\n",
       "Name: filename, dtype: int64"
      ]
     },
     "metadata": {},
     "execution_count": 9
    }
   ],
   "source": [
    "df_label.filename.value_counts().reset_index().filename.value_counts()"
   ]
  },
  {
   "cell_type": "code",
   "execution_count": 10,
   "metadata": {},
   "outputs": [
    {
     "output_type": "execute_result",
     "data": {
      "text/plain": [
       "1.0     68\n",
       "2.0      9\n",
       "3.0      6\n",
       "4.0      4\n",
       "0.0      3\n",
       "5.0      1\n",
       "11.0     1\n",
       "Name: polygon_cnt, dtype: int64"
      ]
     },
     "metadata": {},
     "execution_count": 10
    }
   ],
   "source": [
    "df_label.polygon_cnt.value_counts()"
   ]
  },
  {
   "source": [
    "### Convert to COCO format"
   ],
   "cell_type": "markdown",
   "metadata": {}
  },
  {
   "cell_type": "code",
   "execution_count": 15,
   "metadata": {},
   "outputs": [
    {
     "output_type": "execute_result",
     "data": {
      "text/plain": [
       "      filename                                               pose  \\\n",
       "3   771734.jpg  238.0,191.0,2,428.0,207.0,2,334.0,291.0,2,237....   \n",
       "4   895632.jpg  819.0,362.0,2,795.0,456.0,2,744.0,412.0,2,732....   \n",
       "5   933760.jpg  261.0,128.0,2,380.0,142.0,1,321.0,214.0,2,205....   \n",
       "6   318509.jpg  352.0,186.0,2,439.0,144.0,2,417.0,206.0,2,341....   \n",
       "7   126134.jpg  485.0,144.0,2,529.0,189.0,2,490.0,186.0,2,444....   \n",
       "..         ...                                                ...   \n",
       "87  140435.png  515.0,199.0,2,604.0,185.0,2,556.0,263.0,2,0.0,...   \n",
       "88  140435.png  515.0,199.0,2,604.0,185.0,2,556.0,263.0,2,0.0,...   \n",
       "89  948061.png  492.0,316.0,2,674.0,315.0,2,584.0,418.0,2,389....   \n",
       "90  949796.png  0.0,0.0,0,416.0,268.0,1,383.0,341.0,2,0.0,0.0,...   \n",
       "91  526920.png  385.0,264.0,2,606.0,233.0,2,493.0,384.0,2,350....   \n",
       "\n",
       "                                              polygon  polygon_cnt  \n",
       "3   (242.8,130.0,264.0,111.8,268.5,111.8,271.5,107...          2.0  \n",
       "4   (226.1,267.0,229.2,258.5,236.6,254.3,266.0,254...          1.0  \n",
       "5   (53.0,228.8,58.5,224.4,59.6,221.1,65.2,215.5,8...          1.0  \n",
       "6   (332.7,99.6,384.6,75.7,434.5,76.7,448.0,91.3,4...          1.0  \n",
       "7   (354.8,230.3,386.5,195.6,402.7,170.6,388.7,170...          1.0  \n",
       "..                                                ...          ...  \n",
       "87  (498.9,131.5,500.2,127.7,507.8,120.1,530.6,106...          1.0  \n",
       "88  (41.7,96.0,253.2,93.5,289.9,185.9,292.5,185.9,...          1.0  \n",
       "89  (271.3,145.4,272.6,140.4,281.4,132.8,293.9,122...          1.0  \n",
       "90  (378.4,200.4,390.6,198.0,407.7,198.0,412.5,200...          1.0  \n",
       "91  (366.9,109.6,377.7,109.6,379.2,111.1,391.5,112...          1.0  \n",
       "\n",
       "[89 rows x 4 columns]"
      ],
      "text/html": "<div>\n<style scoped>\n    .dataframe tbody tr th:only-of-type {\n        vertical-align: middle;\n    }\n\n    .dataframe tbody tr th {\n        vertical-align: top;\n    }\n\n    .dataframe thead th {\n        text-align: right;\n    }\n</style>\n<table border=\"1\" class=\"dataframe\">\n  <thead>\n    <tr style=\"text-align: right;\">\n      <th></th>\n      <th>filename</th>\n      <th>pose</th>\n      <th>polygon</th>\n      <th>polygon_cnt</th>\n    </tr>\n  </thead>\n  <tbody>\n    <tr>\n      <th>3</th>\n      <td>771734.jpg</td>\n      <td>238.0,191.0,2,428.0,207.0,2,334.0,291.0,2,237....</td>\n      <td>(242.8,130.0,264.0,111.8,268.5,111.8,271.5,107...</td>\n      <td>2.0</td>\n    </tr>\n    <tr>\n      <th>4</th>\n      <td>895632.jpg</td>\n      <td>819.0,362.0,2,795.0,456.0,2,744.0,412.0,2,732....</td>\n      <td>(226.1,267.0,229.2,258.5,236.6,254.3,266.0,254...</td>\n      <td>1.0</td>\n    </tr>\n    <tr>\n      <th>5</th>\n      <td>933760.jpg</td>\n      <td>261.0,128.0,2,380.0,142.0,1,321.0,214.0,2,205....</td>\n      <td>(53.0,228.8,58.5,224.4,59.6,221.1,65.2,215.5,8...</td>\n      <td>1.0</td>\n    </tr>\n    <tr>\n      <th>6</th>\n      <td>318509.jpg</td>\n      <td>352.0,186.0,2,439.0,144.0,2,417.0,206.0,2,341....</td>\n      <td>(332.7,99.6,384.6,75.7,434.5,76.7,448.0,91.3,4...</td>\n      <td>1.0</td>\n    </tr>\n    <tr>\n      <th>7</th>\n      <td>126134.jpg</td>\n      <td>485.0,144.0,2,529.0,189.0,2,490.0,186.0,2,444....</td>\n      <td>(354.8,230.3,386.5,195.6,402.7,170.6,388.7,170...</td>\n      <td>1.0</td>\n    </tr>\n    <tr>\n      <th>...</th>\n      <td>...</td>\n      <td>...</td>\n      <td>...</td>\n      <td>...</td>\n    </tr>\n    <tr>\n      <th>87</th>\n      <td>140435.png</td>\n      <td>515.0,199.0,2,604.0,185.0,2,556.0,263.0,2,0.0,...</td>\n      <td>(498.9,131.5,500.2,127.7,507.8,120.1,530.6,106...</td>\n      <td>1.0</td>\n    </tr>\n    <tr>\n      <th>88</th>\n      <td>140435.png</td>\n      <td>515.0,199.0,2,604.0,185.0,2,556.0,263.0,2,0.0,...</td>\n      <td>(41.7,96.0,253.2,93.5,289.9,185.9,292.5,185.9,...</td>\n      <td>1.0</td>\n    </tr>\n    <tr>\n      <th>89</th>\n      <td>948061.png</td>\n      <td>492.0,316.0,2,674.0,315.0,2,584.0,418.0,2,389....</td>\n      <td>(271.3,145.4,272.6,140.4,281.4,132.8,293.9,122...</td>\n      <td>1.0</td>\n    </tr>\n    <tr>\n      <th>90</th>\n      <td>949796.png</td>\n      <td>0.0,0.0,0,416.0,268.0,1,383.0,341.0,2,0.0,0.0,...</td>\n      <td>(378.4,200.4,390.6,198.0,407.7,198.0,412.5,200...</td>\n      <td>1.0</td>\n    </tr>\n    <tr>\n      <th>91</th>\n      <td>526920.png</td>\n      <td>385.0,264.0,2,606.0,233.0,2,493.0,384.0,2,350....</td>\n      <td>(366.9,109.6,377.7,109.6,379.2,111.1,391.5,112...</td>\n      <td>1.0</td>\n    </tr>\n  </tbody>\n</table>\n<p>89 rows × 4 columns</p>\n</div>"
     },
     "metadata": {},
     "execution_count": 15
    }
   ],
   "source": [
    "df_label[~df_label['pose'].isnull()]"
   ]
  },
  {
   "source": [],
   "cell_type": "code",
   "metadata": {},
   "execution_count": 16,
   "outputs": [
    {
     "output_type": "error",
     "ename": "SyntaxError",
     "evalue": "illegal target for annotation (<ipython-input-16-9d2a5ab5a9ec>, line 1)",
     "traceback": [
      "\u001b[0;36m  File \u001b[0;32m\"<ipython-input-16-9d2a5ab5a9ec>\"\u001b[0;36m, line \u001b[0;32m1\u001b[0m\n\u001b[0;31m    \"categories\": [\u001b[0m\n\u001b[0m    ^\u001b[0m\n\u001b[0;31mSyntaxError\u001b[0m\u001b[0;31m:\u001b[0m illegal target for annotation\n"
     ]
    }
   ]
  },
  {
   "cell_type": "code",
   "execution_count": null,
   "metadata": {},
   "outputs": [],
   "source": []
  }
 ]
}